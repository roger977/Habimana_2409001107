{
  "nbformat": 4,
  "nbformat_minor": 0,
  "metadata": {
    "colab": {
      "provenance": [],
      "include_colab_link": true
    },
    "kernelspec": {
      "name": "python3",
      "display_name": "Python 3"
    },
    "language_info": {
      "name": "python"
    }
  },
  "cells": [
    {
      "cell_type": "markdown",
      "metadata": {
        "id": "view-in-github",
        "colab_type": "text"
      },
      "source": [
        "<a href=\"https://colab.research.google.com/github/roger977/Habimana_2409001107/blob/main/Untitled1.ipynb\" target=\"_parent\"><img src=\"https://colab.research.google.com/assets/colab-badge.svg\" alt=\"Open In Colab\"/></a>"
      ]
    },
    {
      "cell_type": "code",
      "source": [
        "from cryptography.fernet import Fernet\n",
        "# Generate key\n",
        "key = Fernet.generate_key()\n",
        "Cipher_suite = Fernet(key)\n",
        "\n",
        "#message to encrypt\n",
        "\n",
        "message = b\"First Name : Roger\"\n",
        "\n",
        "#Encrypt\n",
        "\n",
        "encrypted_message = Cipher_suite.encrypt(message)\n",
        "print(\"encrypted_message :\", encrypted_message.decode())\n",
        "\n",
        "#Decrypt the message\n",
        "\n",
        "decrypted_message = Cipher_suite.decrypt(encrypted_message)\n",
        "print(\"decrypted_message:\", decrypted_message.decode())"
      ],
      "metadata": {
        "colab": {
          "base_uri": "https://localhost:8080/"
        },
        "id": "uqr7QQXAWacW",
        "outputId": "361d4e2f-fe6e-49cd-d092-91543e3832a0"
      },
      "execution_count": null,
      "outputs": [
        {
          "output_type": "stream",
          "name": "stdout",
          "text": [
            "encrypted_message : gAAAAABnreKitVXuz3iTjh3GL7EfKEz5WPlSoyOEwedIQa0c7KdCmXJrShlPCO7OW7abHJG08J3m94W2KVh9FUsQjc_lJ6caQ0BnFP7fHEY_c3W4OvhPiGE=\n",
            "decrypted_message: First Name : Roger\n"
          ]
        }
      ]
    },
    {
      "cell_type": "code",
      "execution_count": null,
      "metadata": {
        "id": "-iW8J65JOf46"
      },
      "outputs": [],
      "source": [
        "#step 1:\n",
        "\n",
        "\n"
      ]
    }
  ]
}