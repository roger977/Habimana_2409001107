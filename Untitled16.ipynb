{
  "nbformat": 4,
  "nbformat_minor": 0,
  "metadata": {
    "colab": {
      "provenance": [],
      "authorship_tag": "ABX9TyNec0y4oy3miZXqmzrsj+Ul",
      "include_colab_link": true
    },
    "kernelspec": {
      "name": "python3",
      "display_name": "Python 3"
    },
    "language_info": {
      "name": "python"
    }
  },
  "cells": [
    {
      "cell_type": "markdown",
      "metadata": {
        "id": "view-in-github",
        "colab_type": "text"
      },
      "source": [
        "<a href=\"https://colab.research.google.com/github/roger977/Habimana_2409001107/blob/main/Untitled16.ipynb\" target=\"_parent\"><img src=\"https://colab.research.google.com/assets/colab-badge.svg\" alt=\"Open In Colab\"/></a>"
      ]
    },
    {
      "cell_type": "code",
      "execution_count": null,
      "metadata": {
        "colab": {
          "base_uri": "https://localhost:8080/"
        },
        "id": "KGH5zYvsQ8iZ",
        "outputId": "552b732e-e4a9-4775-94c6-829ae1043a4e"
      },
      "outputs": [
        {
          "metadata": {
            "tags": null
          },
          "name": "stdout",
          "output_type": "stream",
          "text": [
            "Requirement already satisfied: requests in /usr/local/lib/python3.11/dist-packages (2.32.3)\n",
            "Requirement already satisfied: slack_sdk in /usr/local/lib/python3.11/dist-packages (3.34.0)\n",
            "Requirement already satisfied: charset-normalizer<4,>=2 in /usr/local/lib/python3.11/dist-packages (from requests) (3.4.1)\n",
            "Requirement already satisfied: idna<4,>=2.5 in /usr/local/lib/python3.11/dist-packages (from requests) (3.10)\n",
            "Requirement already satisfied: urllib3<3,>=1.21.1 in /usr/local/lib/python3.11/dist-packages (from requests) (2.3.0)\n",
            "Requirement already satisfied: certifi>=2017.4.17 in /usr/local/lib/python3.11/dist-packages (from requests) (2025.1.31)\n"
          ]
        }
      ],
      "source": [
        "!pip install requests slack_sdk\n",
        "\n",
        "import requests\n",
        "import time\n",
        "import logging\n",
        "import smtplib\n",
        "from email.mime.text import MIMEText\n",
        "from email.mime.multipart import MIMEMultipart\n",
        "from slack_sdk import WebClient\n",
        "from slack_sdk.errors import SlackApiError\n",
        "\n",
        "# Configuration\n",
        "urls_to_monitor = [\n",
        "    \"https://uok.ac.rw\",\n",
        "    \"https://www.google.com\",\n",
        "\n",
        "]\n",
        "\n",
        "# Email alert configuration\n",
        "email_sender = \"habimanar7@gmail.com\"\n",
        "email_receiver = \"receiver_email@gmail.com\"\n",
        "email_subject = \"Website Down Alert\"\n",
        "smtp_server = \"smtp.gmail.com\"\n",
        "smtp_port = 587\n",
        "smtp_user = \"habimanar7@gmail.com\"\n",
        "smtp_password = \"your_email_password\"\n",
        "\n",
        "# Slack alert configuration (optional)\n",
        "slack_token = \"your_slack_token\"\n",
        "slack_channel = \"#your_channel\"\n",
        "\n",
        "# Logging setup (log file)\n",
        "logging.basicConfig(filename=\"website_monitor_log.txt\", level=logging.INFO, format='%(asctime)s - %(message)s')\n",
        "\n",
        "# Function to send email alert\n",
        "def send_email_alert(website_url):\n",
        "    try:\n",
        "        msg = MIMEMultipart()\n",
        "        msg['From'] = email_sender\n",
        "        msg['To'] = email_receiver\n",
        "        msg['Subject'] = email_subject\n",
        "\n",
        "        body = f\"The website {website_url} is down!\"\n",
        "        msg.attach(MIMEText(body, 'plain'))\n",
        "\n",
        "        with smtplib.SMTP(smtp_server, smtp_port) as server:\n",
        "            server.starttls()\n",
        "            server.login(smtp_user, smtp_password)\n",
        "            text = msg.as_string()\n",
        "            server.sendmail(email_sender, email_receiver, text)\n",
        "        logging.info(f\"Email alert sent for {website_url}.\")\n",
        "    except Exception as e:\n",
        "        logging.error(f\"Error sending email alert for {website_url}: {e}\")\n",
        "\n",
        "# Function to send Slack alert\n",
        "def send_slack_alert(website_url):\n",
        "    try:\n",
        "        client = WebClient(token=slack_token)\n",
        "        message = f\"The website {website_url} is down!\"\n",
        "        client.chat_postMessage(channel=slack_channel, text=message)\n",
        "        logging.info(f\"Slack alert sent for {website_url}.\")\n",
        "    except SlackApiError as e:\n",
        "        logging.error(f\"Error sending Slack alert for {website_url}: {e.response['error']}\")\n",
        "\n",
        "# Function to check website status\n",
        "def check_website_status(url):\n",
        "    try:\n",
        "        response = requests.get(url)\n",
        "        if response.status_code != 200:\n",
        "            logging.warning(f\"Website {url} is down (Status Code: {response.status_code})\")\n",
        "            send_email_alert(url)\n",
        "            send_slack_alert(url)\n",
        "            logging.info(f\"Failure logged for {url}.\")\n",
        "        else:\n",
        "            logging.info(f\"Website {url} is up (Status Code: {response.status_code}).\")\n",
        "    except requests.exceptions.RequestException as e:\n",
        "        logging.warning(f\"Website {url} is down (Exception: {e})\")\n",
        "        send_email_alert(url)\n",
        "        send_slack_alert(url)\n",
        "        logging.info(f\"Failure logged for {url}.\")\n",
        "\n",
        "# Function to run periodic checks\n",
        "def run_periodic_checks():\n",
        "    while True:\n",
        "        for url in urls_to_monitor:\n",
        "            check_website_status(url)\n",
        "        # Wait for 5 minutes before checking again\n",
        "        time.sleep(300)\n",
        "\n",
        "# Start the periodic checks\n",
        "run_periodic_checks()\n",
        "\n"
      ]
    }
  ]
}